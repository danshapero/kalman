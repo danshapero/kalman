{
 "cells": [
  {
   "cell_type": "code",
   "execution_count": 4,
   "metadata": {
    "collapsed": true
   },
   "outputs": [],
   "source": [
    "%matplotlib inline\n",
    "%load_ext autoreload\n",
    "%autoreload 1\n",
    "\n",
    "import numpy as np\n",
    "from scipy.integrate import ode\n",
    "\n",
    "import matplotlib as mpl\n",
    "from mpl_toolkits.mplot3d import Axes3D\n",
    "import matplotlib.pyplot as plt\n",
    "\n",
    "%aimport lorenz"
   ]
  },
  {
   "cell_type": "markdown",
   "metadata": {},
   "source": [
    "# The Kalman filter\n",
    "\n",
    "The Kalman filter is a procedure to estimate the state of a system with known dynamics, but which can only be observed imperfectly.\n",
    "\n",
    "Consider everyone's favorite example, the Lorenz attractor:\n",
    "\n",
    "$\\dot x = \\sigma(y - x)$\n",
    "\n",
    "$\\dot y = x(\\rho - z) - y$\n",
    "\n",
    "$\\dot z = xy - \\beta z$\n",
    "\n",
    "Given an initial condition $[x_0, y_0, z_0]$, we can use our favorite ODE solver to compute the trajectory of this initial condition."
   ]
  },
  {
   "cell_type": "code",
   "execution_count": 2,
   "metadata": {
    "collapsed": false
   },
   "outputs": [],
   "source": [
    "from lorenz import *"
   ]
  },
  {
   "cell_type": "code",
   "execution_count": 6,
   "metadata": {
    "collapsed": false
   },
   "outputs": [],
   "source": [
    "q = lorenz.lorenz([5.0, 5.0, 5.0], 0.0, 10.0)\n",
    "\n",
    "fig = plt.figure()\n",
    "ax = fig.gca(projection='3d')\n",
    "ax.plot(q[:,0], q[:,1], q[:,2])\n",
    "\n",
    "plt.show()"
   ]
  },
  {
   "cell_type": "markdown",
   "metadata": {},
   "source": [
    "What if we only get to observe the system at discrete time intervals?\n",
    "\n",
    "What if we don't even get to observe the system, just the output of some sensor?\n",
    "\n",
    "And what if the sensor makes errors?"
   ]
  },
  {
   "cell_type": "code",
   "execution_count": 17,
   "metadata": {
    "collapsed": false
   },
   "outputs": [],
   "source": [
    "d = lorenz.observational_data\n",
    "\n",
    "fig = plt.figure()\n",
    "ax = fig.gca(projection='3d')\n",
    "ax.scatter(d[:,0], d[:,1], d[:,2], color='r', marker='.')\n",
    "\n",
    "plt.show()"
   ]
  },
  {
   "cell_type": "markdown",
   "metadata": {},
   "source": [
    "How can we use the (admittedly noisy) observations together with what we know about the underlying system?"
   ]
  },
  {
   "cell_type": "markdown",
   "metadata": {},
   "source": [
    "# Linear stochastic dynamical systems\n",
    "\n",
    "Consider a discrete dynamical system\n",
    "\n",
    "$$X_k = AX_{k - 1} + \\xi_k.$$\n",
    "\n",
    "$\\xi_k$ is the *process noise*; $\\xi_k \\sim N(0, C)$.\n",
    "\n",
    "However, we don't get to observe the process $X_k$ directly; rather, we only get to see\n",
    "\n",
    "$$Y_k = HX_k + \\eta_k,$$\n",
    "\n",
    "where $\\eta_k \\sim N(0, Q)$ is the *measurement noise*."
   ]
  },
  {
   "cell_type": "markdown",
   "metadata": {},
   "source": [
    "### Prediction\n",
    "\n",
    "Say we have an unbiased estimate $\\hat x_{k-1|k-1}$ for $x_{k-1}$ based on the previous $k - 1$ observations, for which we somehow know that\n",
    "\n",
    "$$ \\textrm{cov}(\\hat x_{k-1|k-1}) = P_{k|k-1}. $$\n",
    "\n",
    "How can we update this estimate for the next timestep?\n",
    "\n",
    "$$\\hat x_{k|k-1} \\equiv A\\hat x_{k-1|k-1}$$\n",
    "\n",
    "is unbiased for $x_k$.\n",
    "What happens to the covariance?\n",
    "\n",
    "$$ P_{k|k-1} \\equiv \\textrm{cov}(\\hat x_{k|k-1}) = AP_{k-1|k-1}A^* + C$$"
   ]
  },
  {
   "cell_type": "markdown",
   "metadata": {},
   "source": [
    "### Correction\n",
    "\n",
    "Now we get some data $y_k$; how do we correct our prediction?\n",
    "Well, $\\hat x_{k|k-1}$ is an unbiased estimate for $x_k$, and presumably we know its covariance.\n",
    "But that's just regression:\n",
    "\n",
    "$$ \\hat x_{k|k} = \\hat x_{k|k-1} + K_k(y_k - H\\hat x_{k|k-1}) $$\n",
    "\n",
    "where $K_k$ is the Kalman gain matrix:\n",
    "\n",
    "$$ K_k = P_{k|k-1}H^*(HP_{k|k-1}H^* + Q)^{-1}$$\n",
    "\n",
    "With the updated covariance:\n",
    "\n",
    "$$ P_{k|k} = (I - K_kH)P_{k|k-1}$$\n",
    "\n",
    "we can start over again at step $k$."
   ]
  }
 ],
 "metadata": {
  "kernelspec": {
   "display_name": "Python 2",
   "language": "python",
   "name": "python2"
  },
  "language_info": {
   "codemirror_mode": {
    "name": "ipython",
    "version": 2
   },
   "file_extension": ".py",
   "mimetype": "text/x-python",
   "name": "python",
   "nbconvert_exporter": "python",
   "pygments_lexer": "ipython2",
   "version": "2.7.10"
  }
 },
 "nbformat": 4,
 "nbformat_minor": 0
}
