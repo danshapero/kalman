{
 "cells": [
  {
   "cell_type": "code",
   "execution_count": 1,
   "metadata": {
    "collapsed": true
   },
   "outputs": [],
   "source": [
    "%matplotlib inline\n",
    "%load_ext autoreload\n",
    "%autoreload 1\n",
    "\n",
    "import numpy as np\n",
    "from scipy.integrate import ode\n",
    "\n",
    "import matplotlib as mpl\n",
    "from mpl_toolkits.mplot3d import Axes3D\n",
    "import matplotlib.pyplot as plt\n",
    "\n",
    "%aimport lorenz"
   ]
  },
  {
   "cell_type": "markdown",
   "metadata": {},
   "source": [
    "# The Kalman filter\n",
    "\n",
    "The Kalman filter is a procedure to estimate the state of a system with known dynamics, but which can only be observed imperfectly.\n",
    "\n",
    "Consider everyone's favorite example, the Lorenz attractor:\n",
    "\n",
    "$\\dot x = \\sigma(y - x)$\n",
    "\n",
    "$\\dot y = x(\\rho - z) - y$\n",
    "\n",
    "$\\dot z = xy - \\beta z$\n",
    "\n",
    "Given an initial condition $[x_0, y_0, z_0]$, we can use our favorite ODE solver to compute the trajectory of this initial condition."
   ]
  },
  {
   "cell_type": "code",
   "execution_count": 2,
   "metadata": {
    "collapsed": false
   },
   "outputs": [],
   "source": [
    "q = lorenz.lorenz([5.0, 5.0, 5.0], 0.0, 10.0)\n",
    "\n",
    "fig = plt.figure()\n",
    "ax = fig.gca(projection='3d')\n",
    "ax.plot(q[:,0], q[:,1], q[:,2])\n",
    "\n",
    "plt.show()"
   ]
  },
  {
   "cell_type": "markdown",
   "metadata": {},
   "source": [
    "What if we only get to observe the system at discrete time intervals?\n",
    "\n",
    "What if we don't even get to observe the system, just the output of some sensor?\n",
    "\n",
    "And what if the sensor makes errors?"
   ]
  },
  {
   "cell_type": "code",
   "execution_count": 3,
   "metadata": {
    "collapsed": false
   },
   "outputs": [],
   "source": [
    "d = lorenz.observational_data\n",
    "\n",
    "fig = plt.figure()\n",
    "ax = fig.gca(projection='3d')\n",
    "ax.scatter(d[:,0], d[:,1], d[:,2], color='r', marker='.')\n",
    "\n",
    "plt.show()"
   ]
  },
  {
   "cell_type": "markdown",
   "metadata": {},
   "source": [
    "How can we use the (admittedly noisy) observations together with what we know about the underlying system?"
   ]
  },
  {
   "cell_type": "markdown",
   "metadata": {},
   "source": [
    "# Some stats\n",
    "\n",
    "There's a random variable $x$ we'd like to estimate; we already have an unbiased estimate $\\hat x_0$, that is,\n",
    "\n",
    "$$ \\hat x_0 = x + \\xi, $$\n",
    "\n",
    "where $\\xi \\sim N(0, C)$ for some covariance matrix $C$.\n",
    "Never mind where $\\hat x_0$ came from for now, we'll get to that.\n",
    "\n",
    "Now we get a measurement $y$ of $x$:\n",
    "\n",
    "$$ y = Mx + \\eta $$\n",
    "\n",
    "where $\\eta \\sim N(0, Q)$.\n",
    "Updated estimate $\\hat x$ has the maximum a posteriori probability:\n",
    "\n",
    "$$ \\hat x = \\hat x_0 + CM^*(MCM^* + Q)^{-1}(y - M\\hat x_0) $$\n",
    "\n",
    "The new estimate has\n",
    "\n",
    "$$ \\textrm{cov}(\\hat x) = C - CM^*(MCM^* + Q)^{-1}MC. $$\n",
    "\n",
    "Observe that $\\textrm{cov}(\\hat x) \\le \\textrm{cov}(\\hat x_0)$.\n",
    "(Derivations on the board if you want to see them.)"
   ]
  },
  {
   "cell_type": "markdown",
   "metadata": {},
   "source": [
    "# Linear stochastic dynamical systems\n",
    "\n",
    "Consider a discrete dynamical system\n",
    "\n",
    "$$X_k = AX_{k - 1} + \\xi_k.$$\n",
    "\n",
    "$\\xi_k$ is the *process noise*; $\\xi_k \\sim N(0, C)$.\n",
    "\n",
    "However, we don't get to observe the process $X_k$ directly; rather, we only get to see\n",
    "\n",
    "$$Y_k = MX_k + \\eta_k,$$\n",
    "\n",
    "where $\\eta_k \\sim N(0, Q)$ is the *measurement noise*."
   ]
  },
  {
   "cell_type": "markdown",
   "metadata": {},
   "source": [
    "### Prediction\n",
    "\n",
    "Say we have an unbiased estimate $\\hat x_{k-1|k-1}$ for $x_{k-1}$ based on the previous $k - 1$ observations, for which we somehow know that\n",
    "\n",
    "$$ \\textrm{cov}(\\hat x_{k-1|k-1}) = P_{k|k-1}. $$\n",
    "\n",
    "How can we update this estimate for the next timestep?\n",
    "\n",
    "$$\\hat x_{k|k-1} \\equiv A\\hat x_{k-1|k-1}$$\n",
    "\n",
    "is unbiased for $x_k$.\n",
    "What happens to the covariance?\n",
    "\n",
    "$$ P_{k|k-1} \\equiv \\textrm{cov}(\\hat x_{k|k-1}) = AP_{k-1|k-1}A^* + C$$"
   ]
  },
  {
   "cell_type": "markdown",
   "metadata": {},
   "source": [
    "### Correction\n",
    "\n",
    "Now we get some data $y_k$; how do we correct our prediction?\n",
    "Well, $\\hat x_{k|k-1}$ is an unbiased estimate for $x_k$, and presumably we know its covariance.\n",
    "But we just did that a second ago; the a prior covariance $C$ is $P_{k|k-1}$:\n",
    "\n",
    "$$ \\hat x_{k|k} = \\hat x_{k|k-1} + K_k(y_k - M\\hat x_{k|k-1}) $$\n",
    "\n",
    "where $K_k$ is the Kalman gain matrix:\n",
    "\n",
    "$$ K_k = P_{k|k-1}M^*(MP_{k|k-1}M^* + Q)^{-1}$$\n",
    "\n",
    "With the updated covariance:\n",
    "\n",
    "$$ P_{k|k} = (I - K_kM)P_{k|k-1}$$\n",
    "\n",
    "we can start over again at step $k$.\n",
    "\n",
    "#### Appease the numerical analysts\n",
    "\n",
    "All this can be done by keeping the Cholesky decomposition of the covariance matrix and not the inverse."
   ]
  },
  {
   "cell_type": "code",
   "execution_count": null,
   "metadata": {
    "collapsed": true
   },
   "outputs": [],
   "source": []
  },
  {
   "cell_type": "markdown",
   "metadata": {},
   "source": [
    "# Generalizations\n",
    "\n",
    "We could be estimating $x_k$ based on the entire time series of measurements, including measurements that occurred before and after $k$ (Kalman smoothing, hindcasting).\n",
    "\n",
    "There can be deterministic forcing:\n",
    "\n",
    "$$ x_k = Ax_{k-1} + Bu_k + \\xi_k $$\n",
    "\n",
    "The underlying dynamical system can be continuous (Kalman-Bucy filter, hybrid filtering):\n",
    "\n",
    "$$ \\dot x = Ax + \\xi_t $$\n",
    "\n",
    "The underlying dynamical system need not be linear:\n",
    "\n",
    "$$ \\dot x = f(x) + \\xi_t $$\n",
    "\n",
    "Use the linearization of $f$ about the a priori estimate (extended Kalman filter).\n",
    "\n",
    "The system can be large (think weather forecasting), in which case maintaining covariance matrices is expensive.\n",
    "Then we use an *ensemble* of representative solutions to estimate the true covariance (ensemble Kalman filter)."
   ]
  }
 ],
 "metadata": {
  "kernelspec": {
   "display_name": "Python 2",
   "language": "python",
   "name": "python2"
  },
  "language_info": {
   "codemirror_mode": {
    "name": "ipython",
    "version": 2
   },
   "file_extension": ".py",
   "mimetype": "text/x-python",
   "name": "python",
   "nbconvert_exporter": "python",
   "pygments_lexer": "ipython2",
   "version": "2.7.10"
  }
 },
 "nbformat": 4,
 "nbformat_minor": 0
}
