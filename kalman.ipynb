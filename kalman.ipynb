{
 "cells": [
  {
   "cell_type": "markdown",
   "metadata": {},
   "source": [
    "# The Kalman filter\n",
    "\n",
    "The Kalman filter is a procedure to estimate the state of a system with known dynamics, but which can only be observed imperfectly.\n",
    "\n",
    "Consider everyone's favorite example, the Lorenz attractor:\n",
    "\n",
    "$\\dot x = \\sigma(y - x)$\n",
    "\n",
    "$\\dot y = x(\\rho - z) - y$\n",
    "\n",
    "$\\dot z = xy - \\beta z$\n",
    "\n",
    "Given an initial condition $[x_0, y_0, z_0]$, we can use our favorite ODE solver to compute the trajectory of this initial condition."
   ]
  },
  {
   "cell_type": "code",
   "execution_count": 3,
   "metadata": {
    "collapsed": false
   },
   "outputs": [],
   "source": [
    "import ODE\n",
    "import PyPlot\n",
    "\n",
    "function Lorenz(sigma, rho, beta)\n",
    "    function F(t, q)\n",
    "        [sigma * (q[2] - q[1]),\n",
    "         q[1] * (rho - q[3]) - q[2],\n",
    "         q[1] * q[2] - beta * q[3]]\n",
    "    end\n",
    "end\n",
    "\n",
    "t, q = ODE.ode4(Lorenz(10, 28, 8/3), [5.0, 5.0, 5.0], [0.0 : 0.01 : 1.0]);\n",
    "q = reduce(hcat, q);"
   ]
  },
  {
   "cell_type": "code",
   "execution_count": null,
   "metadata": {
    "collapsed": false
   },
   "outputs": [],
   "source": [
    "fig = PyPlot.figure(\"Lorenz\", figsize=(6, 6));\n",
    "p = PyPlot.plot(q[1,:], q[2,:]);\n",
    "fig[:canvas][:draw]()"
   ]
  }
 ],
 "metadata": {
  "kernelspec": {
   "display_name": "Julia 0.3.10",
   "language": "julia",
   "name": "julia-0.3"
  },
  "language_info": {
   "file_extension": ".jl",
   "mimetype": "application/julia",
   "name": "julia",
   "version": "0.3.10"
  }
 },
 "nbformat": 4,
 "nbformat_minor": 0
}
